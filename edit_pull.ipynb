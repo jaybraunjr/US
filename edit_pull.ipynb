{
 "cells": [
  {
   "cell_type": "code",
   "execution_count": 1,
   "id": "f8d64e50",
   "metadata": {},
   "outputs": [],
   "source": [
    "import argparse\n",
    "import re\n",
    "import os\n",
    "import subprocess\n",
    "import numpy as np\n",
    "import matplotlib.pyplot as plt\n",
    "import sys"
   ]
  },
  {
   "cell_type": "code",
   "execution_count": 73,
   "id": "5f24cd69",
   "metadata": {},
   "outputs": [],
   "source": [
    "\n",
    "filepath = 'pullf.dat'\n",
    "f = open(filepath,'r')\n",
    "lines = f.readlines()\n",
    "f.close()\n",
    "\n",
    "\n",
    "with open(filepath, \"w\") as fp:\n",
    "\n",
    "    for line in lines:\n",
    "        index = line.find('_')\n",
    "        output_line = line[:index]+'.part0002'+ line[index:]\n",
    "        print(output_line,file=fp)\n",
    "\n",
    "        \n"
   ]
  },
  {
   "cell_type": "code",
   "execution_count": 85,
   "id": "ec1318ef",
   "metadata": {},
   "outputs": [
    {
     "data": {
      "text/plain": [
       "991"
      ]
     },
     "execution_count": 85,
     "metadata": {},
     "output_type": "execute_result"
    }
   ],
   "source": [
    "\n",
    "output=\"\"\n",
    "with open(\"pullf.txt\") as f:\n",
    "    for line in f:\n",
    "        if not line.isspace():\n",
    "            output+=line\n",
    "            \n",
    "f= open(\"pull2.dat\",\"w\")\n",
    "f.write(output)"
   ]
  },
  {
   "cell_type": "code",
   "execution_count": null,
   "id": "ec3a6861",
   "metadata": {},
   "outputs": [],
   "source": []
  }
 ],
 "metadata": {
  "kernelspec": {
   "display_name": "Python 3 (ipykernel)",
   "language": "python",
   "name": "python3"
  },
  "language_info": {
   "codemirror_mode": {
    "name": "ipython",
    "version": 3
   },
   "file_extension": ".py",
   "mimetype": "text/x-python",
   "name": "python",
   "nbconvert_exporter": "python",
   "pygments_lexer": "ipython3",
   "version": "3.9.7"
  }
 },
 "nbformat": 4,
 "nbformat_minor": 5
}
